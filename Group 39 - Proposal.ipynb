{
 "cells": [
  {
   "cell_type": "markdown",
   "id": "83a7fb08-2107-4c64-8c83-4777712a2ddf",
   "metadata": {},
   "source": [
    "**Predicting Human Life Expectancy Based on Social services**"
   ]
  },
  {
   "cell_type": "markdown",
   "id": "f9fed7f9-6c69-4ed2-b405-8e810a0720f8",
   "metadata": {},
   "source": [
    "**Introduction**\n",
    "\n",
    "In this exploratory data analysis, we aim to explore the relationship between life expectancy and social services across various countries. Life expectancy is a critical metric reflecting the overall health and well-being of a population, while social services encompass a wide range of factors such as healthcare access, education, economic stability, and social support systems.\n",
    "\n",
    "The question we aim to answer with this project is \"What factors of social service affect life expectancy, and what is their relationship?\". In order to do this we will build a predictive model that uses regression to predict the life expectancy of a country's population based on various factors we think would have a correlation.\n",
    "\n",
    "The dataset used for this analysis is the \"Global Country Information Dataset 2023\", taken from Kaggle. It contains information on key social service indicators and life expectancy statistics for multiple countries for the year 2023.\n",
    "\n",
    "https://www.kaggle.com/datasets/nelgiriyewithana/countries-of-the-world-2023"
   ]
  },
  {
   "cell_type": "code",
   "execution_count": 3,
   "id": "ff54a3be-d838-41ba-a4ab-0bbf490f01c4",
   "metadata": {},
   "outputs": [],
   "source": [
    "# load the necessary libraries and set seed to begin\n",
    "library(tidyverse)\n",
    "library(repr)\n",
    "library(tidymodels)\n",
    "library(ISLR)\n",
    "options(repr.matrix.max.rows = 6)\n",
    "set.seed(1689)"
   ]
  },
  {
   "cell_type": "markdown",
   "id": "2960d6df-fb06-4325-a76b-2132f955b34a",
   "metadata": {},
   "source": [
    "**Preliminary Data Analysis**"
   ]
  },
  {
   "cell_type": "code",
   "execution_count": 4,
   "id": "7503d695-d809-47b2-8619-e84b7bfff45e",
   "metadata": {
    "scrolled": true
   },
   "outputs": [
    {
     "name": "stderr",
     "output_type": "stream",
     "text": [
      "\u001b[1mRows: \u001b[22m\u001b[34m195\u001b[39m \u001b[1mColumns: \u001b[22m\u001b[34m35\u001b[39m\n",
      "\u001b[36m──\u001b[39m \u001b[1mColumn specification\u001b[22m \u001b[36m────────────────────────────────────────────────────────\u001b[39m\n",
      "\u001b[1mDelimiter:\u001b[22m \",\"\n",
      "\u001b[31mchr\u001b[39m (19): Country, Abbreviation, Agricultural Land( %), Capital/Major City, ...\n",
      "\u001b[32mdbl\u001b[39m  (9): Birth Rate, Calling Code, Fertility Rate, Infant mortality, Life e...\n",
      "\u001b[32mnum\u001b[39m  (7): Density\n",
      "(P/Km2), Land Area(Km2), Armed Forces size, Co2-Emissions,...\n",
      "\n",
      "\u001b[36mℹ\u001b[39m Use `spec()` to retrieve the full column specification for this data.\n",
      "\u001b[36mℹ\u001b[39m Specify the column types or set `show_col_types = FALSE` to quiet this message.\n"
     ]
    },
    {
     "data": {
      "text/html": [
       "<table class=\"dataframe\">\n",
       "<caption>A spec_tbl_df: 195 × 35</caption>\n",
       "<thead>\n",
       "\t<tr><th scope=col>Country</th><th scope=col>Density\n",
       "(P/Km2)</th><th scope=col>Abbreviation</th><th scope=col>Agricultural Land( %)</th><th scope=col>Land Area(Km2)</th><th scope=col>Armed Forces size</th><th scope=col>Birth Rate</th><th scope=col>Calling Code</th><th scope=col>Capital/Major City</th><th scope=col>Co2-Emissions</th><th scope=col>⋯</th><th scope=col>Out of pocket health expenditure</th><th scope=col>Physicians per thousand</th><th scope=col>Population</th><th scope=col>Population: Labor force participation (%)</th><th scope=col>Tax revenue (%)</th><th scope=col>Total tax rate</th><th scope=col>Unemployment rate</th><th scope=col>Urban_population</th><th scope=col>Latitude</th><th scope=col>Longitude</th></tr>\n",
       "\t<tr><th scope=col>&lt;chr&gt;</th><th scope=col>&lt;dbl&gt;</th><th scope=col>&lt;chr&gt;</th><th scope=col>&lt;chr&gt;</th><th scope=col>&lt;dbl&gt;</th><th scope=col>&lt;dbl&gt;</th><th scope=col>&lt;dbl&gt;</th><th scope=col>&lt;dbl&gt;</th><th scope=col>&lt;chr&gt;</th><th scope=col>&lt;dbl&gt;</th><th scope=col>⋯</th><th scope=col>&lt;chr&gt;</th><th scope=col>&lt;dbl&gt;</th><th scope=col>&lt;dbl&gt;</th><th scope=col>&lt;chr&gt;</th><th scope=col>&lt;chr&gt;</th><th scope=col>&lt;chr&gt;</th><th scope=col>&lt;chr&gt;</th><th scope=col>&lt;dbl&gt;</th><th scope=col>&lt;dbl&gt;</th><th scope=col>&lt;dbl&gt;</th></tr>\n",
       "</thead>\n",
       "<tbody>\n",
       "\t<tr><td>Afghanistan</td><td> 60</td><td>AF</td><td>58.10%</td><td> 652230</td><td>323000</td><td>32.49</td><td> 93</td><td>Kabul  </td><td>  8672</td><td>⋯</td><td>78.40%</td><td>0.28</td><td>38041754</td><td>48.90%</td><td>9.30% </td><td>71.40%</td><td>11.12%</td><td> 9797273</td><td>33.93911</td><td>67.709953</td></tr>\n",
       "\t<tr><td>Albania    </td><td>105</td><td>AL</td><td>43.10%</td><td>  28748</td><td>  9000</td><td>11.78</td><td>355</td><td>Tirana </td><td>  4536</td><td>⋯</td><td>56.90%</td><td>1.20</td><td> 2854191</td><td>55.70%</td><td>18.60%</td><td>36.60%</td><td>12.33%</td><td> 1747593</td><td>41.15333</td><td>20.168331</td></tr>\n",
       "\t<tr><td>Algeria    </td><td> 18</td><td>DZ</td><td>17.40%</td><td>2381741</td><td>317000</td><td>24.28</td><td>213</td><td>Algiers</td><td>150006</td><td>⋯</td><td>28.10%</td><td>1.72</td><td>43053054</td><td>41.20%</td><td>37.20%</td><td>66.10%</td><td>11.70%</td><td>31510100</td><td>28.03389</td><td> 1.659626</td></tr>\n",
       "\t<tr><td>⋮</td><td>⋮</td><td>⋮</td><td>⋮</td><td>⋮</td><td>⋮</td><td>⋮</td><td>⋮</td><td>⋮</td><td>⋮</td><td>⋱</td><td>⋮</td><td>⋮</td><td>⋮</td><td>⋮</td><td>⋮</td><td>⋮</td><td>⋮</td><td>⋮</td><td>⋮</td><td>⋮</td></tr>\n",
       "\t<tr><td>Yemen   </td><td>56</td><td>YE</td><td>44.60%</td><td>527968</td><td>40000</td><td>30.45</td><td>967</td><td>Sanaa </td><td>10609</td><td>⋯</td><td>81.00%</td><td>0.31</td><td>29161922</td><td>38.00%</td><td>NA    </td><td>26.60%</td><td>12.91%</td><td>10869523</td><td> 15.55273</td><td>48.51639</td></tr>\n",
       "\t<tr><td>Zambia  </td><td>25</td><td>ZM</td><td>32.10%</td><td>752618</td><td>16000</td><td>36.19</td><td>260</td><td>Lusaka</td><td> 5141</td><td>⋯</td><td>27.50%</td><td>1.19</td><td>17861030</td><td>74.60%</td><td>16.20%</td><td>15.60%</td><td>11.43%</td><td> 7871713</td><td>-13.13390</td><td>27.84933</td></tr>\n",
       "\t<tr><td>Zimbabwe</td><td>38</td><td>ZW</td><td>41.90%</td><td>390757</td><td>51000</td><td>30.68</td><td>263</td><td>Harare</td><td>10983</td><td>⋯</td><td>25.80%</td><td>0.21</td><td>14645468</td><td>83.10%</td><td>20.70%</td><td>31.60%</td><td>4.95% </td><td> 4717305</td><td>-19.01544</td><td>29.15486</td></tr>\n",
       "</tbody>\n",
       "</table>\n"
      ],
      "text/latex": [
       "A spec\\_tbl\\_df: 195 × 35\n",
       "\\begin{tabular}{lllllllllllllllllllll}\n",
       " Country & Density\n",
       "(P/Km2) & Abbreviation & Agricultural Land( \\%) & Land Area(Km2) & Armed Forces size & Birth Rate & Calling Code & Capital/Major City & Co2-Emissions & ⋯ & Out of pocket health expenditure & Physicians per thousand & Population & Population: Labor force participation (\\%) & Tax revenue (\\%) & Total tax rate & Unemployment rate & Urban\\_population & Latitude & Longitude\\\\\n",
       " <chr> & <dbl> & <chr> & <chr> & <dbl> & <dbl> & <dbl> & <dbl> & <chr> & <dbl> & ⋯ & <chr> & <dbl> & <dbl> & <chr> & <chr> & <chr> & <chr> & <dbl> & <dbl> & <dbl>\\\\\n",
       "\\hline\n",
       "\t Afghanistan &  60 & AF & 58.10\\% &  652230 & 323000 & 32.49 &  93 & Kabul   &   8672 & ⋯ & 78.40\\% & 0.28 & 38041754 & 48.90\\% & 9.30\\%  & 71.40\\% & 11.12\\% &  9797273 & 33.93911 & 67.709953\\\\\n",
       "\t Albania     & 105 & AL & 43.10\\% &   28748 &   9000 & 11.78 & 355 & Tirana  &   4536 & ⋯ & 56.90\\% & 1.20 &  2854191 & 55.70\\% & 18.60\\% & 36.60\\% & 12.33\\% &  1747593 & 41.15333 & 20.168331\\\\\n",
       "\t Algeria     &  18 & DZ & 17.40\\% & 2381741 & 317000 & 24.28 & 213 & Algiers & 150006 & ⋯ & 28.10\\% & 1.72 & 43053054 & 41.20\\% & 37.20\\% & 66.10\\% & 11.70\\% & 31510100 & 28.03389 &  1.659626\\\\\n",
       "\t ⋮ & ⋮ & ⋮ & ⋮ & ⋮ & ⋮ & ⋮ & ⋮ & ⋮ & ⋮ & ⋱ & ⋮ & ⋮ & ⋮ & ⋮ & ⋮ & ⋮ & ⋮ & ⋮ & ⋮ & ⋮\\\\\n",
       "\t Yemen    & 56 & YE & 44.60\\% & 527968 & 40000 & 30.45 & 967 & Sanaa  & 10609 & ⋯ & 81.00\\% & 0.31 & 29161922 & 38.00\\% & NA     & 26.60\\% & 12.91\\% & 10869523 &  15.55273 & 48.51639\\\\\n",
       "\t Zambia   & 25 & ZM & 32.10\\% & 752618 & 16000 & 36.19 & 260 & Lusaka &  5141 & ⋯ & 27.50\\% & 1.19 & 17861030 & 74.60\\% & 16.20\\% & 15.60\\% & 11.43\\% &  7871713 & -13.13390 & 27.84933\\\\\n",
       "\t Zimbabwe & 38 & ZW & 41.90\\% & 390757 & 51000 & 30.68 & 263 & Harare & 10983 & ⋯ & 25.80\\% & 0.21 & 14645468 & 83.10\\% & 20.70\\% & 31.60\\% & 4.95\\%  &  4717305 & -19.01544 & 29.15486\\\\\n",
       "\\end{tabular}\n"
      ],
      "text/markdown": [
       "\n",
       "A spec_tbl_df: 195 × 35\n",
       "\n",
       "| Country &lt;chr&gt; | Density\n",
       "(P/Km2) &lt;dbl&gt; | Abbreviation &lt;chr&gt; | Agricultural Land( %) &lt;chr&gt; | Land Area(Km2) &lt;dbl&gt; | Armed Forces size &lt;dbl&gt; | Birth Rate &lt;dbl&gt; | Calling Code &lt;dbl&gt; | Capital/Major City &lt;chr&gt; | Co2-Emissions &lt;dbl&gt; | ⋯ ⋯ | Out of pocket health expenditure &lt;chr&gt; | Physicians per thousand &lt;dbl&gt; | Population &lt;dbl&gt; | Population: Labor force participation (%) &lt;chr&gt; | Tax revenue (%) &lt;chr&gt; | Total tax rate &lt;chr&gt; | Unemployment rate &lt;chr&gt; | Urban_population &lt;dbl&gt; | Latitude &lt;dbl&gt; | Longitude &lt;dbl&gt; |\n",
       "|---|---|---|---|---|---|---|---|---|---|---|---|---|---|---|---|---|---|---|---|---|\n",
       "| Afghanistan |  60 | AF | 58.10% |  652230 | 323000 | 32.49 |  93 | Kabul   |   8672 | ⋯ | 78.40% | 0.28 | 38041754 | 48.90% | 9.30%  | 71.40% | 11.12% |  9797273 | 33.93911 | 67.709953 |\n",
       "| Albania     | 105 | AL | 43.10% |   28748 |   9000 | 11.78 | 355 | Tirana  |   4536 | ⋯ | 56.90% | 1.20 |  2854191 | 55.70% | 18.60% | 36.60% | 12.33% |  1747593 | 41.15333 | 20.168331 |\n",
       "| Algeria     |  18 | DZ | 17.40% | 2381741 | 317000 | 24.28 | 213 | Algiers | 150006 | ⋯ | 28.10% | 1.72 | 43053054 | 41.20% | 37.20% | 66.10% | 11.70% | 31510100 | 28.03389 |  1.659626 |\n",
       "| ⋮ | ⋮ | ⋮ | ⋮ | ⋮ | ⋮ | ⋮ | ⋮ | ⋮ | ⋮ | ⋱ | ⋮ | ⋮ | ⋮ | ⋮ | ⋮ | ⋮ | ⋮ | ⋮ | ⋮ | ⋮ |\n",
       "| Yemen    | 56 | YE | 44.60% | 527968 | 40000 | 30.45 | 967 | Sanaa  | 10609 | ⋯ | 81.00% | 0.31 | 29161922 | 38.00% | NA     | 26.60% | 12.91% | 10869523 |  15.55273 | 48.51639 |\n",
       "| Zambia   | 25 | ZM | 32.10% | 752618 | 16000 | 36.19 | 260 | Lusaka |  5141 | ⋯ | 27.50% | 1.19 | 17861030 | 74.60% | 16.20% | 15.60% | 11.43% |  7871713 | -13.13390 | 27.84933 |\n",
       "| Zimbabwe | 38 | ZW | 41.90% | 390757 | 51000 | 30.68 | 263 | Harare | 10983 | ⋯ | 25.80% | 0.21 | 14645468 | 83.10% | 20.70% | 31.60% | 4.95%  |  4717305 | -19.01544 | 29.15486 |\n",
       "\n"
      ],
      "text/plain": [
       "    Country     Density\\n(P/Km2) Abbreviation Agricultural Land( %)\n",
       "1   Afghanistan  60              AF           58.10%               \n",
       "2   Albania     105              AL           43.10%               \n",
       "3   Algeria      18              DZ           17.40%               \n",
       "⋮   ⋮           ⋮                ⋮            ⋮                    \n",
       "193 Yemen       56               YE           44.60%               \n",
       "194 Zambia      25               ZM           32.10%               \n",
       "195 Zimbabwe    38               ZW           41.90%               \n",
       "    Land Area(Km2) Armed Forces size Birth Rate Calling Code Capital/Major City\n",
       "1    652230        323000            32.49       93          Kabul             \n",
       "2     28748          9000            11.78      355          Tirana            \n",
       "3   2381741        317000            24.28      213          Algiers           \n",
       "⋮   ⋮              ⋮                 ⋮          ⋮            ⋮                 \n",
       "193 527968         40000             30.45      967          Sanaa             \n",
       "194 752618         16000             36.19      260          Lusaka            \n",
       "195 390757         51000             30.68      263          Harare            \n",
       "    Co2-Emissions ⋯ Out of pocket health expenditure Physicians per thousand\n",
       "1     8672        ⋯ 78.40%                           0.28                   \n",
       "2     4536        ⋯ 56.90%                           1.20                   \n",
       "3   150006        ⋯ 28.10%                           1.72                   \n",
       "⋮   ⋮             ⋱ ⋮                                ⋮                      \n",
       "193 10609         ⋯ 81.00%                           0.31                   \n",
       "194  5141         ⋯ 27.50%                           1.19                   \n",
       "195 10983         ⋯ 25.80%                           0.21                   \n",
       "    Population Population: Labor force participation (%) Tax revenue (%)\n",
       "1   38041754   48.90%                                    9.30%          \n",
       "2    2854191   55.70%                                    18.60%         \n",
       "3   43053054   41.20%                                    37.20%         \n",
       "⋮   ⋮          ⋮                                         ⋮              \n",
       "193 29161922   38.00%                                    NA             \n",
       "194 17861030   74.60%                                    16.20%         \n",
       "195 14645468   83.10%                                    20.70%         \n",
       "    Total tax rate Unemployment rate Urban_population Latitude  Longitude\n",
       "1   71.40%         11.12%             9797273         33.93911  67.709953\n",
       "2   36.60%         12.33%             1747593         41.15333  20.168331\n",
       "3   66.10%         11.70%            31510100         28.03389   1.659626\n",
       "⋮   ⋮              ⋮                 ⋮                ⋮         ⋮        \n",
       "193 26.60%         12.91%            10869523          15.55273 48.51639 \n",
       "194 15.60%         11.43%             7871713         -13.13390 27.84933 \n",
       "195 31.60%         4.95%              4717305         -19.01544 29.15486 "
      ]
     },
     "metadata": {},
     "output_type": "display_data"
    }
   ],
   "source": [
    "# data is a .csv file so it can be read using read_csv\n",
    "url <- \"https://raw.githubusercontent.com/mariemkandeel/Group-39-Project/main/Data/world-data-2023.csv\"\n",
    "data <- read_csv(url)\n",
    "data"
   ]
  },
  {
   "cell_type": "markdown",
   "id": "537c84aa-ed06-44e8-8296-f17a33d76f9c",
   "metadata": {},
   "source": [
    "To decide which columns to use as predictors, we examined the dataset and made a few guesses, we then checked to see if these were backed by scientific research. The following are the columns we chose, along with their citations for proof of correlation.\n",
    "\n",
    "- \"Gross tertiary education enrollment (%)\" (Hummer & Hernandez, 2015)\n",
    "-  \"Physicians per thousand\" (You & Donelly, 2022)\n",
    "-  \"Minimum wage\" (Lenhart, 2017)\n",
    "\n",
    "As we started to visualize the data, we realised that we first had to clean it, since the column names had spaces in them and the minimum wage and education enrollment columns had symbols in them.\n",
    "\n",
    "Cleaning does not affect the testing data set, rather only makes it usable."
   ]
  },
  {
   "cell_type": "code",
   "execution_count": 5,
   "id": "77124141-4de9-468b-a29e-86cfbf7b287c",
   "metadata": {},
   "outputs": [
    {
     "data": {
      "text/html": [
       "<table class=\"dataframe\">\n",
       "<caption>A tibble: 195 × 5</caption>\n",
       "<thead>\n",
       "\t<tr><th scope=col>Country</th><th scope=col>min_wage</th><th scope=col>life_expectancy</th><th scope=col>physicians_per_thousand</th><th scope=col>education_enrollment</th></tr>\n",
       "\t<tr><th scope=col>&lt;chr&gt;</th><th scope=col>&lt;dbl&gt;</th><th scope=col>&lt;dbl&gt;</th><th scope=col>&lt;dbl&gt;</th><th scope=col>&lt;dbl&gt;</th></tr>\n",
       "</thead>\n",
       "<tbody>\n",
       "\t<tr><td>Afghanistan</td><td>0.43</td><td>64.5</td><td>0.28</td><td> 9.7</td></tr>\n",
       "\t<tr><td>Albania    </td><td>1.12</td><td>78.5</td><td>1.20</td><td>55.0</td></tr>\n",
       "\t<tr><td>Algeria    </td><td>0.95</td><td>76.7</td><td>1.72</td><td>51.4</td></tr>\n",
       "\t<tr><td>⋮</td><td>⋮</td><td>⋮</td><td>⋮</td><td>⋮</td></tr>\n",
       "\t<tr><td>Yemen   </td><td>  NA</td><td>66.1</td><td>0.31</td><td>10.2</td></tr>\n",
       "\t<tr><td>Zambia  </td><td>0.24</td><td>63.5</td><td>1.19</td><td> 4.1</td></tr>\n",
       "\t<tr><td>Zimbabwe</td><td>  NA</td><td>61.2</td><td>0.21</td><td>10.0</td></tr>\n",
       "</tbody>\n",
       "</table>\n"
      ],
      "text/latex": [
       "A tibble: 195 × 5\n",
       "\\begin{tabular}{lllll}\n",
       " Country & min\\_wage & life\\_expectancy & physicians\\_per\\_thousand & education\\_enrollment\\\\\n",
       " <chr> & <dbl> & <dbl> & <dbl> & <dbl>\\\\\n",
       "\\hline\n",
       "\t Afghanistan & 0.43 & 64.5 & 0.28 &  9.7\\\\\n",
       "\t Albania     & 1.12 & 78.5 & 1.20 & 55.0\\\\\n",
       "\t Algeria     & 0.95 & 76.7 & 1.72 & 51.4\\\\\n",
       "\t ⋮ & ⋮ & ⋮ & ⋮ & ⋮\\\\\n",
       "\t Yemen    &   NA & 66.1 & 0.31 & 10.2\\\\\n",
       "\t Zambia   & 0.24 & 63.5 & 1.19 &  4.1\\\\\n",
       "\t Zimbabwe &   NA & 61.2 & 0.21 & 10.0\\\\\n",
       "\\end{tabular}\n"
      ],
      "text/markdown": [
       "\n",
       "A tibble: 195 × 5\n",
       "\n",
       "| Country &lt;chr&gt; | min_wage &lt;dbl&gt; | life_expectancy &lt;dbl&gt; | physicians_per_thousand &lt;dbl&gt; | education_enrollment &lt;dbl&gt; |\n",
       "|---|---|---|---|---|\n",
       "| Afghanistan | 0.43 | 64.5 | 0.28 |  9.7 |\n",
       "| Albania     | 1.12 | 78.5 | 1.20 | 55.0 |\n",
       "| Algeria     | 0.95 | 76.7 | 1.72 | 51.4 |\n",
       "| ⋮ | ⋮ | ⋮ | ⋮ | ⋮ |\n",
       "| Yemen    |   NA | 66.1 | 0.31 | 10.2 |\n",
       "| Zambia   | 0.24 | 63.5 | 1.19 |  4.1 |\n",
       "| Zimbabwe |   NA | 61.2 | 0.21 | 10.0 |\n",
       "\n"
      ],
      "text/plain": [
       "    Country     min_wage life_expectancy physicians_per_thousand\n",
       "1   Afghanistan 0.43     64.5            0.28                   \n",
       "2   Albania     1.12     78.5            1.20                   \n",
       "3   Algeria     0.95     76.7            1.72                   \n",
       "⋮   ⋮           ⋮        ⋮               ⋮                      \n",
       "193 Yemen         NA     66.1            0.31                   \n",
       "194 Zambia      0.24     63.5            1.19                   \n",
       "195 Zimbabwe      NA     61.2            0.21                   \n",
       "    education_enrollment\n",
       "1    9.7                \n",
       "2   55.0                \n",
       "3   51.4                \n",
       "⋮   ⋮                   \n",
       "193 10.2                \n",
       "194  4.1                \n",
       "195 10.0                "
      ]
     },
     "metadata": {},
     "output_type": "display_data"
    }
   ],
   "source": [
    "data_cleaned <- rename(data, life_expectancy = \"Life expectancy\", education_enrollment = \"Gross tertiary education enrollment (%)\", physicians_per_thousand = \"Physicians per thousand\", min_wage = \"Minimum wage\")|>\n",
    "mutate(education_enrollment = substr(education_enrollment, 1, nchar(education_enrollment)-1)) |>\n",
    "mutate(education_enrollment = as.double(education_enrollment))|>\n",
    "mutate(min_wage = substr(min_wage, 2, nchar(min_wage))) |>\n",
    "mutate(min_wage = as.double(min_wage)) |>\n",
    "select(Country, min_wage, life_expectancy, physicians_per_thousand, education_enrollment)\n",
    "data_cleaned"
   ]
  },
  {
   "cell_type": "markdown",
   "id": "174c66b7-d7ce-48a1-8a28-a83fc145cde3",
   "metadata": {},
   "source": [
    "Before starting to visualize the data, let us first split it into training and testing, using a split of 0.75 and setting strata to life_expectancy.\n",
    "This ensures that life_expectancy is evenly distributed among the two splits."
   ]
  },
  {
   "cell_type": "code",
   "execution_count": 6,
   "id": "fc86ad11-5a81-4c40-989c-63739ac6b1b6",
   "metadata": {},
   "outputs": [
    {
     "data": {
      "text/html": [
       "<table class=\"dataframe\">\n",
       "<caption>A tibble: 145 × 5</caption>\n",
       "<thead>\n",
       "\t<tr><th scope=col>Country</th><th scope=col>min_wage</th><th scope=col>life_expectancy</th><th scope=col>physicians_per_thousand</th><th scope=col>education_enrollment</th></tr>\n",
       "\t<tr><th scope=col>&lt;chr&gt;</th><th scope=col>&lt;dbl&gt;</th><th scope=col>&lt;dbl&gt;</th><th scope=col>&lt;dbl&gt;</th><th scope=col>&lt;dbl&gt;</th></tr>\n",
       "</thead>\n",
       "<tbody>\n",
       "\t<tr><td>Afghanistan</td><td>0.43</td><td>64.5</td><td>0.28</td><td> 9.7</td></tr>\n",
       "\t<tr><td>Benin      </td><td>0.39</td><td>61.5</td><td>0.08</td><td>12.3</td></tr>\n",
       "\t<tr><td>Burundi    </td><td>  NA</td><td>61.2</td><td>0.10</td><td> 6.1</td></tr>\n",
       "\t<tr><td>⋮</td><td>⋮</td><td>⋮</td><td>⋮</td><td>⋮</td></tr>\n",
       "\t<tr><td>Switzerland   </td><td>   NA</td><td>83.6</td><td>4.30</td><td>59.6</td></tr>\n",
       "\t<tr><td>United Kingdom</td><td>10.13</td><td>81.3</td><td>2.81</td><td>60.0</td></tr>\n",
       "\t<tr><td>Uruguay       </td><td> 1.66</td><td>77.8</td><td>5.05</td><td>63.1</td></tr>\n",
       "</tbody>\n",
       "</table>\n"
      ],
      "text/latex": [
       "A tibble: 145 × 5\n",
       "\\begin{tabular}{lllll}\n",
       " Country & min\\_wage & life\\_expectancy & physicians\\_per\\_thousand & education\\_enrollment\\\\\n",
       " <chr> & <dbl> & <dbl> & <dbl> & <dbl>\\\\\n",
       "\\hline\n",
       "\t Afghanistan & 0.43 & 64.5 & 0.28 &  9.7\\\\\n",
       "\t Benin       & 0.39 & 61.5 & 0.08 & 12.3\\\\\n",
       "\t Burundi     &   NA & 61.2 & 0.10 &  6.1\\\\\n",
       "\t ⋮ & ⋮ & ⋮ & ⋮ & ⋮\\\\\n",
       "\t Switzerland    &    NA & 83.6 & 4.30 & 59.6\\\\\n",
       "\t United Kingdom & 10.13 & 81.3 & 2.81 & 60.0\\\\\n",
       "\t Uruguay        &  1.66 & 77.8 & 5.05 & 63.1\\\\\n",
       "\\end{tabular}\n"
      ],
      "text/markdown": [
       "\n",
       "A tibble: 145 × 5\n",
       "\n",
       "| Country &lt;chr&gt; | min_wage &lt;dbl&gt; | life_expectancy &lt;dbl&gt; | physicians_per_thousand &lt;dbl&gt; | education_enrollment &lt;dbl&gt; |\n",
       "|---|---|---|---|---|\n",
       "| Afghanistan | 0.43 | 64.5 | 0.28 |  9.7 |\n",
       "| Benin       | 0.39 | 61.5 | 0.08 | 12.3 |\n",
       "| Burundi     |   NA | 61.2 | 0.10 |  6.1 |\n",
       "| ⋮ | ⋮ | ⋮ | ⋮ | ⋮ |\n",
       "| Switzerland    |    NA | 83.6 | 4.30 | 59.6 |\n",
       "| United Kingdom | 10.13 | 81.3 | 2.81 | 60.0 |\n",
       "| Uruguay        |  1.66 | 77.8 | 5.05 | 63.1 |\n",
       "\n"
      ],
      "text/plain": [
       "    Country        min_wage life_expectancy physicians_per_thousand\n",
       "1   Afghanistan    0.43     64.5            0.28                   \n",
       "2   Benin          0.39     61.5            0.08                   \n",
       "3   Burundi          NA     61.2            0.10                   \n",
       "⋮   ⋮              ⋮        ⋮               ⋮                      \n",
       "143 Switzerland       NA    83.6            4.30                   \n",
       "144 United Kingdom 10.13    81.3            2.81                   \n",
       "145 Uruguay         1.66    77.8            5.05                   \n",
       "    education_enrollment\n",
       "1    9.7                \n",
       "2   12.3                \n",
       "3    6.1                \n",
       "⋮   ⋮                   \n",
       "143 59.6                \n",
       "144 60.0                \n",
       "145 63.1                "
      ]
     },
     "metadata": {},
     "output_type": "display_data"
    }
   ],
   "source": [
    "data_split <- initial_split(data_cleaned, prop = 0.75, strata = life_expectancy)\n",
    "data_training <- training(data_split)\n",
    "data_testing <- testing(data_split)\n",
    "data_training"
   ]
  },
  {
   "cell_type": "markdown",
   "id": "5058b76c-36b7-482c-9908-603fef1e6e25",
   "metadata": {},
   "source": [
    "A summary of the training data is given below"
   ]
  },
  {
   "cell_type": "code",
   "execution_count": 7,
   "id": "1b0f1376-365d-473c-af0e-ec1bb4198b40",
   "metadata": {},
   "outputs": [
    {
     "name": "stderr",
     "output_type": "stream",
     "text": [
      "Warning message:\n",
      "“\u001b[1m\u001b[22mThere was 1 warning in `summarize()`.\n",
      "\u001b[1m\u001b[22m\u001b[36mℹ\u001b[39m In argument: `across(min_wage:education_enrollment, mean, na.rm = TRUE)`.\n",
      "Caused by warning:\n",
      "\u001b[1m\u001b[22m\u001b[33m!\u001b[39m The `...` argument of `across()` is deprecated as of dplyr 1.1.0.\n",
      "Supply arguments directly to `.fns` through an anonymous function instead.\n",
      "\n",
      "  # Previously\n",
      "  across(a:b, mean, na.rm = TRUE)\n",
      "\n",
      "  # Now\n",
      "  across(a:b, \\(x) mean(x, na.rm = TRUE))”\n"
     ]
    },
    {
     "ename": "ERROR",
     "evalue": "\u001b[1m\u001b[33mError\u001b[39m in `mutate()`:\u001b[22m\n\u001b[1m\u001b[22m\u001b[36mℹ\u001b[39m In argument: `Missing_Observations = colSums(is.na(data_training))`.\n\u001b[1mCaused by error:\u001b[22m\n\u001b[1m\u001b[22m\u001b[33m!\u001b[39m `Missing_Observations` must be size 4 or 1, not 5.\n",
     "output_type": "error",
     "traceback": [
      "\u001b[1m\u001b[33mError\u001b[39m in `mutate()`:\u001b[22m\n\u001b[1m\u001b[22m\u001b[36mℹ\u001b[39m In argument: `Missing_Observations = colSums(is.na(data_training))`.\n\u001b[1mCaused by error:\u001b[22m\n\u001b[1m\u001b[22m\u001b[33m!\u001b[39m `Missing_Observations` must be size 4 or 1, not 5.\nTraceback:\n",
      "1. mutate(pivot_longer(summarize(data_training, across(min_wage:education_enrollment, \n .     mean, na.rm = TRUE)), cols = min_wage:education_enrollment, \n .     names_to = \"Variable\", values_to = \"Average\"), Missing_Observations = colSums(is.na(data_training)))",
      "2. mutate.data.frame(pivot_longer(summarize(data_training, across(min_wage:education_enrollment, \n .     mean, na.rm = TRUE)), cols = min_wage:education_enrollment, \n .     names_to = \"Variable\", values_to = \"Average\"), Missing_Observations = colSums(is.na(data_training)))",
      "3. mutate_cols(.data, dplyr_quosures(...), by)",
      "4. withCallingHandlers(for (i in seq_along(dots)) {\n .     poke_error_context(dots, i, mask = mask)\n .     context_poke(\"column\", old_current_column)\n .     new_columns <- mutate_col(dots[[i]], data, mask, new_columns)\n . }, error = dplyr_error_handler(dots = dots, mask = mask, bullets = mutate_bullets, \n .     error_call = error_call, error_class = \"dplyr:::mutate_error\"), \n .     warning = dplyr_warning_handler(state = warnings_state, mask = mask, \n .         error_call = error_call))",
      "5. mutate_col(dots[[i]], data, mask, new_columns)",
      "6. mask$eval_all_mutate(quo)",
      "7. eval()",
      "8. dplyr_internal_error(\"dplyr:::mutate_incompatible_size\", list(\n .     result_size = 5L, expected_size = 4L))",
      "9. abort(class = c(class, \"dplyr:::internal_error\"), dplyr_error_data = data)",
      "10. signal_abort(cnd, .file)",
      "11. signalCondition(cnd)",
      "12. (function (cnd) \n  . {\n  .     local_error_context(dots, i = frame[[i_sym]], mask = mask)\n  .     if (inherits(cnd, \"dplyr:::internal_error\")) {\n  .         parent <- error_cnd(message = bullets(cnd))\n  .     }\n  .     else {\n  .         parent <- cnd\n  .     }\n  .     message <- c(cnd_bullet_header(action), i = if (has_active_group_context(mask)) cnd_bullet_cur_group_label())\n  .     abort(message, class = error_class, parent = parent, call = error_call)\n  . })(structure(list(message = \"\", trace = structure(list(call = list(\n  .     IRkernel::main(), kernel$run(), handle_shell(), executor$execute(msg), \n  .     tryCatch(evaluate(request$content$code, envir = .GlobalEnv, \n  .         output_handler = oh, stop_on_error = 1L), interrupt = function(cond) {\n  .         log_debug(\"Interrupt during execution\")\n  .         interrupted <<- TRUE\n  .     }, error = .self$handle_error), tryCatchList(expr, classes, \n  .         parentenv, handlers), tryCatchOne(tryCatchList(expr, \n  .         names[-nh], parentenv, handlers[-nh]), names[nh], parentenv, \n  .         handlers[[nh]]), doTryCatch(return(expr), name, parentenv, \n  .         handler), tryCatchList(expr, names[-nh], parentenv, handlers[-nh]), \n  .     tryCatchOne(expr, names, parentenv, handlers[[1L]]), doTryCatch(return(expr), \n  .         name, parentenv, handler), evaluate(request$content$code, \n  .         envir = .GlobalEnv, output_handler = oh, stop_on_error = 1L), \n  .     evaluate_call(expr, parsed$src[[i]], envir = envir, enclos = enclos, \n  .         debug = debug, last = i == length(out), use_try = stop_on_error != \n  .             2L, keep_warning = keep_warning, keep_message = keep_message, \n  .         log_echo = log_echo, log_warning = log_warning, output_handler = output_handler, \n  .         include_timing = include_timing), timing_fn(handle(ev <- withCallingHandlers(withVisible(eval_with_user_handlers(expr, \n  .         envir, enclos, user_handlers)), warning = wHandler, error = eHandler, \n  .         message = mHandler))), handle(ev <- withCallingHandlers(withVisible(eval_with_user_handlers(expr, \n  .         envir, enclos, user_handlers)), warning = wHandler, error = eHandler, \n  .         message = mHandler)), try(f, silent = TRUE), tryCatch(expr, \n  .         error = function(e) {\n  .             call <- conditionCall(e)\n  .             if (!is.null(call)) {\n  .                 if (identical(call[[1L]], quote(doTryCatch))) \n  .                   call <- sys.call(-4L)\n  .                 dcall <- deparse(call, nlines = 1L)\n  .                 prefix <- paste(\"Error in\", dcall, \": \")\n  .                 LONG <- 75L\n  .                 sm <- strsplit(conditionMessage(e), \"\\n\")[[1L]]\n  .                 w <- 14L + nchar(dcall, type = \"w\") + nchar(sm[1L], \n  .                   type = \"w\")\n  .                 if (is.na(w)) \n  .                   w <- 14L + nchar(dcall, type = \"b\") + nchar(sm[1L], \n  .                     type = \"b\")\n  .                 if (w > LONG) \n  .                   prefix <- paste0(prefix, \"\\n  \")\n  .             }\n  .             else prefix <- \"Error : \"\n  .             msg <- paste0(prefix, conditionMessage(e), \"\\n\")\n  .             .Internal(seterrmessage(msg[1L]))\n  .             if (!silent && isTRUE(getOption(\"show.error.messages\"))) {\n  .                 cat(msg, file = outFile)\n  .                 .Internal(printDeferredWarnings())\n  .             }\n  .             invisible(structure(msg, class = \"try-error\", condition = e))\n  .         }), tryCatchList(expr, classes, parentenv, handlers), \n  .     tryCatchOne(expr, names, parentenv, handlers[[1L]]), doTryCatch(return(expr), \n  .         name, parentenv, handler), withCallingHandlers(withVisible(eval_with_user_handlers(expr, \n  .         envir, enclos, user_handlers)), warning = wHandler, error = eHandler, \n  .         message = mHandler), withVisible(eval_with_user_handlers(expr, \n  .         envir, enclos, user_handlers)), eval_with_user_handlers(expr, \n  .         envir, enclos, user_handlers), eval(expr, envir, enclos), \n  .     eval(expr, envir, enclos), mutate(pivot_longer(summarize(data_training, \n  .         across(min_wage:education_enrollment, mean, na.rm = TRUE)), \n  .         cols = min_wage:education_enrollment, names_to = \"Variable\", \n  .         values_to = \"Average\"), Missing_Observations = colSums(is.na(data_training))), \n  .     mutate.data.frame(pivot_longer(summarize(data_training, across(min_wage:education_enrollment, \n  .         mean, na.rm = TRUE)), cols = min_wage:education_enrollment, \n  .         names_to = \"Variable\", values_to = \"Average\"), Missing_Observations = colSums(is.na(data_training))), \n  .     mutate_cols(.data, dplyr_quosures(...), by), withCallingHandlers(for (i in seq_along(dots)) {\n  .         poke_error_context(dots, i, mask = mask)\n  .         context_poke(\"column\", old_current_column)\n  .         new_columns <- mutate_col(dots[[i]], data, mask, new_columns)\n  .     }, error = dplyr_error_handler(dots = dots, mask = mask, \n  .         bullets = mutate_bullets, error_call = error_call, error_class = \"dplyr:::mutate_error\"), \n  .         warning = dplyr_warning_handler(state = warnings_state, \n  .             mask = mask, error_call = error_call)), mutate_col(dots[[i]], \n  .         data, mask, new_columns), mask$eval_all_mutate(quo), \n  .     eval(), dplyr_internal_error(\"dplyr:::mutate_incompatible_size\", \n  .         `<named list>`), abort(class = c(class, \"dplyr:::internal_error\"), \n  .         dplyr_error_data = data)), parent = c(0L, 1L, 2L, 3L, \n  . 4L, 5L, 6L, 7L, 6L, 9L, 10L, 4L, 12L, 13L, 13L, 15L, 16L, 17L, \n  . 18L, 19L, 13L, 13L, 13L, 23L, 24L, 0L, 0L, 27L, 28L, 28L, 30L, \n  . 31L, 0L, 33L), visible = c(TRUE, TRUE, TRUE, TRUE, TRUE, TRUE, \n  . TRUE, TRUE, TRUE, TRUE, TRUE, TRUE, TRUE, TRUE, TRUE, TRUE, TRUE, \n  . TRUE, TRUE, TRUE, TRUE, TRUE, TRUE, TRUE, TRUE, TRUE, TRUE, TRUE, \n  . TRUE, TRUE, TRUE, TRUE, TRUE, FALSE), namespace = c(\"IRkernel\", \n  . NA, \"IRkernel\", NA, \"base\", \"base\", \"base\", \"base\", \"base\", \"base\", \n  . \"base\", \"evaluate\", \"evaluate\", \"evaluate\", \"evaluate\", \"base\", \n  . \"base\", \"base\", \"base\", \"base\", \"base\", \"base\", \"evaluate\", \"base\", \n  . \"base\", \"dplyr\", \"dplyr\", \"dplyr\", \"base\", \"dplyr\", NA, \"dplyr\", \n  . \"dplyr\", \"rlang\"), scope = c(\"::\", NA, \"local\", NA, \"::\", \"local\", \n  . \"local\", \"local\", \"local\", \"local\", \"local\", \"::\", \":::\", \"local\", \n  . \"local\", \"::\", \"::\", \"local\", \"local\", \"local\", \"::\", \"::\", \":::\", \n  . \"::\", \"::\", \"::\", \":::\", \":::\", \"::\", \":::\", NA, \"local\", \":::\", \n  . \"::\"), error_frame = c(FALSE, FALSE, FALSE, FALSE, FALSE, FALSE, \n  . FALSE, FALSE, FALSE, FALSE, FALSE, FALSE, FALSE, FALSE, FALSE, \n  . FALSE, FALSE, FALSE, FALSE, FALSE, FALSE, FALSE, FALSE, FALSE, \n  . FALSE, FALSE, FALSE, FALSE, FALSE, FALSE, FALSE, FALSE, TRUE, \n  . FALSE)), row.names = c(NA, -34L), version = 2L, class = c(\"rlang_trace\", \n  . \"rlib_trace\", \"tbl\", \"data.frame\")), parent = NULL, dplyr_error_data = list(\n  .     result_size = 5L, expected_size = 4L), rlang = list(inherit = TRUE), \n  .     call = dplyr_internal_error(\"dplyr:::mutate_incompatible_size\", \n  .         list(result_size = 5L, expected_size = 4L)), use_cli_format = TRUE), class = c(\"dplyr:::mutate_incompatible_size\", \n  . \"dplyr:::internal_error\", \"rlang_error\", \"error\", \"condition\"\n  . )))",
      "13. abort(message, class = error_class, parent = parent, call = error_call)",
      "14. signal_abort(cnd, .file)"
     ]
    }
   ],
   "source": [
    "data_summary <- data_training |>\n",
    "summarize(across(min_wage:education_enrollment, mean, na.rm = TRUE)) |>\n",
    "pivot_longer(cols = min_wage:education_enrollment, names_to = \"Variable\", values_to = \"Average\")|>\n",
    "mutate(Missing_Observations = colSums(is.na(data_training)))\n",
    "data_summary"
   ]
  },
  {
   "cell_type": "markdown",
   "id": "e4d786ed-60b6-43f5-820f-cbdd31774db4",
   "metadata": {},
   "source": [
    "Continuing the preliminary data analysis, visualizations of the chosen features and their correlation with life expectancy are performed using the training data to affirm the correlations suggested. The axes are scaled to develop a clearer visualization of the points."
   ]
  },
  {
   "cell_type": "code",
   "execution_count": null,
   "id": "a9ffb43c-114c-4a48-a37d-8f6788c8e396",
   "metadata": {},
   "outputs": [],
   "source": [
    "physicians_plot <- ggplot(data_training, aes(x = physicians_per_thousand, y = life_expectancy)) +\n",
    "    geom_point() + \n",
    "    scale_x_log10() + \n",
    "    scale_y_log10() + \n",
    "    labs(x = \"Physicians per 1000 People\", y = \"Life Expectancy (years)\")\n",
    "physicians_plot\n",
    "\n",
    "min_wage_plot <- ggplot(data_training, aes(x = min_wage, y = life_expectancy)) +\n",
    "    geom_point() + \n",
    "    scale_x_log10() + \n",
    "    scale_y_log10() + \n",
    "    labs(x = \"Minimum Wage (US Dollar, $)\", y = \"Life Expectancy (years)\")\n",
    "min_wage_plot\n",
    "\n",
    "education_enrollment_plot <- ggplot(data_training, aes(x = education_enrollment, y = life_expectancy)) + \n",
    "    geom_point() + \n",
    "    scale_x_log10() + \n",
    "    scale_y_log10() + \n",
    "    labs(x = \"Post-Secondary Education enrollment (%)\", y = \"Life Expectancy (years)\")\n",
    "education_enrollment_plot"
   ]
  },
  {
   "cell_type": "markdown",
   "id": "b0f6152e-86f9-437f-b455-ed48190b014d",
   "metadata": {},
   "source": [
    "We see a positive linear relationship of moderate strength with all three predictors. Thus, these variables are suitable to be used for creating a regression model."
   ]
  },
  {
   "cell_type": "markdown",
   "id": "14f3a24b-8baa-459c-9038-2c1306014728",
   "metadata": {},
   "source": [
    "**Methods**\n",
    "\n",
    "After cleaning the data and deciding on what variables will be used for the correlation with life expectancy, a regression model will be developed. Using this model, life expectancy can be predicted depending on a point's features (education enrollment, physicians per thousand, and minimum wage)."
   ]
  },
  {
   "cell_type": "markdown",
   "id": "21087ca6-9d0d-43cd-b9c4-801f1d99cf67",
   "metadata": {},
   "source": [
    "**Expected Outcomes and Significance**\n",
    "\n",
    "It is expected to find a positive correlation between all our predictors and life expectancy.\n",
    "\n",
    "The impact of this research is that it could provide valuable insights to policymakers with regards to the areas that require funding.\n",
    "\n",
    "This could lead to further investigation into the impact of these features on life expectancy and the feasibility of their improvement. Also, a more specific analysis could be conducted on a country-by-country basis to confirm the applicability of any correlations found given a nation's additional features."
   ]
  },
  {
   "cell_type": "markdown",
   "id": "511dc824-cedd-41b5-af74-1ffdabaabea4",
   "metadata": {},
   "source": [
    "**References**"
   ]
  },
  {
   "cell_type": "markdown",
   "id": "d5183130-9529-447d-90f1-d1f3767bc952",
   "metadata": {},
   "source": [
    "Hummer RA, Hernandez EM. The Effect of Educational Attainment on Adult Mortality in the United States. Popul Bull. 2013 Jun;68(1):1-16. PMID:       25995521; PMCID: PMC4435622.\n",
    "\n",
    "Lenhart O. The impact of minimum wages on population health: evidence from 24 OECD countries. Eur J Health Econ. 2017 Nov;18(8):1031-1039. doi: 10.1007/s10198-016-0847-5. Epub 2016 Nov 14. PMID: 27844176.\n",
    "\n",
    "You W, Donnelly F. \n",
    "Physician care access plays a significant role in extending global and regional life expectancy \r\n",
    "European Journal of Internal Medici. 2022;me :Pages . doi: 6205,\r\n",
    "https://doi.org/10.1016/j.ejim.2022.2002266)"
   ]
  },
  {
   "cell_type": "code",
   "execution_count": 11,
   "id": "4fff2706-f5fb-4264-bfef-9d97c2dc976e",
   "metadata": {},
   "outputs": [
    {
     "data": {
      "text/plain": [
       "Linear Regression Model Specification (regression)\n",
       "\n",
       "Computational engine: lm \n"
      ]
     },
     "metadata": {},
     "output_type": "display_data"
    },
    {
     "name": "stderr",
     "output_type": "stream",
     "text": [
      "\n",
      "\n",
      "\u001b[36m──\u001b[39m \u001b[1mRecipe\u001b[22m \u001b[36m──────────────────────────────────────────────────────────────────────\u001b[39m\n",
      "\n",
      "\n",
      "\n",
      "── Inputs \n",
      "\n",
      "Number of variables by role\n",
      "\n",
      "outcome:   1\n",
      "predictor: 3\n",
      "\n"
     ]
    }
   ],
   "source": [
    "le_spec <- linear_reg() |>\n",
    "                set_engine(\"lm\") |>\n",
    "                set_mode(\"regression\")\n",
    "\n",
    "le_recipe <- recipe(life_expectancy ~ min_wage + physicians_per_thousand + education_enrollment, data = data_training)\n",
    "\n",
    "le_spec\n",
    "le_recipe"
   ]
  },
  {
   "cell_type": "code",
   "execution_count": null,
   "id": "7944b5d8-8716-49a1-a39e-73d7b259b468",
   "metadata": {},
   "outputs": [],
   "source": []
  }
 ],
 "metadata": {
  "kernelspec": {
   "display_name": "R",
   "language": "R",
   "name": "ir"
  },
  "language_info": {
   "codemirror_mode": "r",
   "file_extension": ".r",
   "mimetype": "text/x-r-source",
   "name": "R",
   "pygments_lexer": "r",
   "version": "4.3.1"
  }
 },
 "nbformat": 4,
 "nbformat_minor": 5
}
