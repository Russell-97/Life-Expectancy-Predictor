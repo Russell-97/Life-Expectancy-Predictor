{
 "cells": [
  {
   "cell_type": "markdown",
   "id": "e9a3a1e9-6c4d-43a3-afa6-071f228480ba",
   "metadata": {},
   "source": [
    "**Title**"
   ]
  },
  {
   "cell_type": "markdown",
   "id": "3729dcb5-90ef-47a4-9374-2909d08bd7d4",
   "metadata": {},
   "source": [
    "yrhg"
   ]
  },
  {
   "cell_type": "code",
   "execution_count": null,
   "id": "ff3c6363-1046-4a64-8f4e-a123eac0fb02",
   "metadata": {},
   "outputs": [],
   "source": []
  }
 ],
 "metadata": {
  "kernelspec": {
   "display_name": "R",
   "language": "R",
   "name": "ir"
  },
  "language_info": {
   "codemirror_mode": "r",
   "file_extension": ".r",
   "mimetype": "text/x-r-source",
   "name": "R",
   "pygments_lexer": "r",
   "version": "4.3.1"
  }
 },
 "nbformat": 4,
 "nbformat_minor": 5
}
